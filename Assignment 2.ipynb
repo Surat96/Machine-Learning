{
 "cells": [
  {
   "cell_type": "markdown",
   "metadata": {},
   "source": [
    "# Assignment 2\n",
    "\n",
    "## Task 1:   \n",
    " \n",
    "### 1.1  Write a Python Program to implement your own myreduce() function which works exactly like Python's built-in function reduce() "
   ]
  },
  {
   "cell_type": "code",
   "execution_count": 2,
   "metadata": {},
   "outputs": [
    {
     "data": {
      "text/plain": [
       "400"
      ]
     },
     "execution_count": 2,
     "metadata": {},
     "output_type": "execute_result"
    }
   ],
   "source": [
    "def my_max(a,b):\n",
    "           if a>b : return a\n",
    "           return b\n",
    "\n",
    "def myreduce(num):\n",
    "    z=num[0]\n",
    "    for i in range(1,len(num)):\n",
    "        z=my_max(z,num[i])\n",
    "    return z\n",
    "\n",
    "num = [7,8,9,400,100]\n",
    "myreduce(num)"
   ]
  },
  {
   "cell_type": "markdown",
   "metadata": {},
   "source": [
    "### 1.2  Write a Python program to implement your own myfilter() function which works exactly like Python's built-in function filter() "
   ]
  },
  {
   "cell_type": "code",
   "execution_count": 7,
   "metadata": {},
   "outputs": [
    {
     "data": {
      "text/plain": [
       "[8, 400, 100]"
      ]
     },
     "execution_count": 7,
     "metadata": {},
     "output_type": "execute_result"
    }
   ],
   "source": [
    "def myfilter(x):\n",
    "    a =[]\n",
    "    for i in x:\n",
    "        if i%2 == 0 : a.append(i)\n",
    "    return a\n",
    "\n",
    "num1 = [7,8,9,400,100]\n",
    "myfilter(num1)"
   ]
  },
  {
   "cell_type": "markdown",
   "metadata": {},
   "source": [
    "### 2.  Implement List comprehensions to produce the following lists. \n",
    " \n",
    "### Write List comprehensions to produce the following Lists \n",
    " \n",
    "#### ['A, 'C', 'A', 'D', 'G', 'I', ’L’, ‘ D’] \n",
    " \n",
    "#### ['x', 'xx', 'xxx', 'xxxx', 'y', 'yy', 'yyy', 'yyyy', 'z', 'zz', 'zzz', 'zzzz'] \n",
    " \n",
    "#### ['x', 'y', 'z', 'xx', 'yy', 'zz', 'xx', 'yy', 'zz', 'xxxx', 'yyyy', 'zzzz'] \n",
    " \n",
    "#### [[2], [3], [4], [3], [4], [5], [4], [5], [6]] \n",
    " \n",
    "####  [[2, 3, 4, 5], [3, 4, 5, 6], [4, 5, 6, 7], [5, 6, 7, 8]] \n",
    " \n",
    "#### [(1, 1), (2, 1), (3, 1), (1, 2), (2, 2), (3, 2), (1, 3), (2, 3), (3, 3)] "
   ]
  },
  {
   "cell_type": "code",
   "execution_count": 4,
   "metadata": {},
   "outputs": [
    {
     "data": {
      "text/plain": [
       "['A', 'C', 'A', 'D', 'G', 'I', 'L', 'D']"
      ]
     },
     "execution_count": 4,
     "metadata": {},
     "output_type": "execute_result"
    }
   ],
   "source": [
    "# ['A', 'C', 'A', 'D', 'G', 'I', ’L’, ‘ D’] \n",
    "\n",
    "word = \"ACADGILD\"\n",
    "[word for word in word]\n"
   ]
  },
  {
   "cell_type": "code",
   "execution_count": null,
   "metadata": {},
   "outputs": [],
   "source": [
    "#  ['x', 'xx', 'xxx', 'xxxx', 'y', 'yy', 'yyy', 'yyyy', 'z', 'zz', 'zzz', 'zzzz']\n",
    "\n",
    "word1 = ['x','y','z']\n",
    "[word1*j for word1 in word1 for j in range(1,5)] "
   ]
  },
  {
   "cell_type": "code",
   "execution_count": 8,
   "metadata": {},
   "outputs": [
    {
     "data": {
      "text/plain": [
       "['x', 'y', 'z', 'xx', 'yy', 'zz', 'xxx', 'yyy', 'zzz', 'xxxx', 'yyyy', 'zzzz']"
      ]
     },
     "execution_count": 8,
     "metadata": {},
     "output_type": "execute_result"
    }
   ],
   "source": [
    "#  ['x', 'y', 'z', 'xx', 'yy', 'zz', 'xx', 'yy', 'zz', 'xxxx', 'yyyy', 'zzzz'] \n",
    "\n",
    "word2 = ['x','y','z']\n",
    "[i*j for i in range(1,5) for j in word2]"
   ]
  },
  {
   "cell_type": "code",
   "execution_count": 9,
   "metadata": {},
   "outputs": [
    {
     "data": {
      "text/plain": [
       "[[2], [3], [4], [3], [4], [5], [4], [5], [6]]"
      ]
     },
     "execution_count": 9,
     "metadata": {},
     "output_type": "execute_result"
    }
   ],
   "source": [
    "# [[2], [3], [4], [3], [4], [5], [4], [5], [6]]\n",
    "\n",
    "x = [2,3,4]\n",
    "[[x+j] for x in x for j in range(0,3)]"
   ]
  },
  {
   "cell_type": "code",
   "execution_count": 10,
   "metadata": {},
   "outputs": [
    {
     "data": {
      "text/plain": [
       "[[2, 3, 4, 5], [3, 4, 5, 6], [4, 5, 6, 7], [5, 6, 7, 8]]"
      ]
     },
     "execution_count": 10,
     "metadata": {},
     "output_type": "execute_result"
    }
   ],
   "source": [
    "# [[2, 3, 4, 5], [3, 4, 5, 6], [4, 5, 6, 7], [5, 6, 7, 8]]\n",
    "\n",
    "x =[2,3,4,5]\n",
    "[[x+i for x in x] for i in range(0,4)]"
   ]
  },
  {
   "cell_type": "code",
   "execution_count": 11,
   "metadata": {},
   "outputs": [
    {
     "data": {
      "text/plain": [
       "[(1, 1), (2, 1), (3, 1), (1, 2), (2, 2), (3, 2), (1, 3), (2, 3), (3, 3)]"
      ]
     },
     "execution_count": 11,
     "metadata": {},
     "output_type": "execute_result"
    }
   ],
   "source": [
    "# [(1, 1), (2, 1), (3, 1), (1, 2), (2, 2), (3, 2), (1, 3), (2, 3), (3, 3)]\n",
    "\n",
    "x =(1,2,3)\n",
    "\n",
    "[(j,i) for i in x for j in x]"
   ]
  },
  {
   "cell_type": "markdown",
   "metadata": {},
   "source": [
    "### 3.  Implement a function longestWord() that takes a list of words and returns the longest one. "
   ]
  },
  {
   "cell_type": "code",
   "execution_count": 12,
   "metadata": {},
   "outputs": [
    {
     "data": {
      "text/plain": [
       "['Akshay Kumar']"
      ]
     },
     "execution_count": 12,
     "metadata": {},
     "output_type": "execute_result"
    }
   ],
   "source": [
    "def longestWord(word):\n",
    "    return [i for i in word if max([len(i) for i in word]) == len(i)]\n",
    "\n",
    "word =[\"Ajay\",\"Vijay\",\"Ram\",\"Rajesh\",\"Akshay Kumar\"]\n",
    "longestWord(word)"
   ]
  },
  {
   "cell_type": "markdown",
   "metadata": {},
   "source": [
    "# Task 2: \n",
    " \n",
    " \n",
    "### 1.1  Write a Python Program(with class concepts) to find the area of the triangle using the below formula. \n",
    "\n",
    "### area = (s*(s-a)*(s-b)*(s-c)) ** 0.5 \n",
    " \n",
    "### Function to take the length of the sides of triangle from user should be defined in the parent class and function to calculate the area should be defined in subclass. "
   ]
  },
  {
   "cell_type": "code",
   "execution_count": 2,
   "metadata": {},
   "outputs": [
    {
     "name": "stdout",
     "output_type": "stream",
     "text": [
      "Enter as side: 35\n",
      "Enter as side: 45\n",
      "Enter as side: 50\n",
      "764.8529270389178\n"
     ]
    }
   ],
   "source": [
    "\n",
    "class Triangle:\n",
    "    def __init__(self):\n",
    "        self.a=self.side()\n",
    "        self.b=self.side()\n",
    "        self.c=self.side()\n",
    "    def side(a):\n",
    "        a=int(input(\"Enter as side: \"))\n",
    "        return a\n",
    "    \n",
    "\n",
    "class Calculate(Triangle):\n",
    "    def __init__(self):\n",
    "        self.x=self.area(Triangle.__init__(self))\n",
    "        \n",
    "    def area(self,x):\n",
    "        s = (self.a+self.b+self.c)/2\n",
    "        return ((s*(s-self.a)*(s-self.b)*(s-self.c)) ** 0.5)\n",
    "\n",
    "z=Calculate()\n",
    "print(z.x)"
   ]
  },
  {
   "cell_type": "markdown",
   "metadata": {},
   "source": [
    "### 1.2 Write a function filter_long_words() that takes a list of words and an integer n and returns the list of words that are longer than n. "
   ]
  },
  {
   "cell_type": "code",
   "execution_count": 18,
   "metadata": {},
   "outputs": [
    {
     "data": {
      "text/plain": [
       "['Rajesh', 'Akshay Kumar', 'Mukesh']"
      ]
     },
     "execution_count": 18,
     "metadata": {},
     "output_type": "execute_result"
    }
   ],
   "source": [
    "def filter_long_words(word,n):\n",
    "    return [i for i in word if len(i) >n]\n",
    "\n",
    "word  = [\"Ajay\",\"Vijay\",\"Ram\",\"Rajesh\",\"Akshay Kumar\", \"Mukesh\", \"Raja\"]\n",
    "x = 5\n",
    "filter_long_words(word,x)"
   ]
  },
  {
   "cell_type": "markdown",
   "metadata": {},
   "source": [
    "### 2.1 Write a Python program using function concept that maps  list of words into a list of integers representing the lengths of the corresponding words​. \n",
    "\n",
    "### Hint: ​If a list [ ab,cde,erty] is passed on to the python function output should come as [2,3,4] \n",
    "\n",
    "### Here 2,3 and 4 are the lengths of the words in the list. "
   ]
  },
  {
   "cell_type": "code",
   "execution_count": 20,
   "metadata": {},
   "outputs": [
    {
     "data": {
      "text/plain": [
       "[4, 5, 3, 6, 12, 6, 4]"
      ]
     },
     "execution_count": 20,
     "metadata": {},
     "output_type": "execute_result"
    }
   ],
   "source": [
    "def lengths(word):\n",
    "    return len(word)\n",
    "\n",
    "word  = [\"Ajay\",\"Vijay\",\"Ram\",\"Rajesh\",\"Akshay Kumar\", \"Mukesh\", \"Raja\"]\n",
    "list(map(lengths,word))"
   ]
  },
  {
   "cell_type": "markdown",
   "metadata": {},
   "source": [
    "### 2.2 Write a Python function which takes a character (i.e. a string of length 1) and returns True if it is a vowel, False otherwise. \n",
    " \n"
   ]
  },
  {
   "cell_type": "code",
   "execution_count": 1,
   "metadata": {},
   "outputs": [
    {
     "name": "stdout",
     "output_type": "stream",
     "text": [
      "Enter a letter i\n"
     ]
    },
    {
     "data": {
      "text/plain": [
       "True"
      ]
     },
     "execution_count": 1,
     "metadata": {},
     "output_type": "execute_result"
    }
   ],
   "source": [
    "def vowel_check(letter):\n",
    "    if letter in ('a','e','i','o','u') : return True\n",
    "    return False\n",
    "\n",
    "x = input(\"Enter a letter \")\n",
    "vowel_check(x)"
   ]
  },
  {
   "cell_type": "code",
   "execution_count": null,
   "metadata": {},
   "outputs": [],
   "source": []
  }
 ],
 "metadata": {
  "kernelspec": {
   "display_name": "Python 3",
   "language": "python",
   "name": "python3"
  },
  "language_info": {
   "codemirror_mode": {
    "name": "ipython",
    "version": 3
   },
   "file_extension": ".py",
   "mimetype": "text/x-python",
   "name": "python",
   "nbconvert_exporter": "python",
   "pygments_lexer": "ipython3",
   "version": "3.7.4"
  }
 },
 "nbformat": 4,
 "nbformat_minor": 2
}
